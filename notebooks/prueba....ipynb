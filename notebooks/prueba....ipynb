{
 "cells": [
  {
   "cell_type": "code",
   "execution_count": null,
   "metadata": {},
   "outputs": [],
   "source": [
    "import pandas as pd"
   ]
  },
  {
   "cell_type": "code",
   "execution_count": null,
   "metadata": {},
   "outputs": [],
   "source": [
    "df = pd.read_csv('C:/Users/gabri/Documents/Proyecto_ML_2025/data/processed/super_shop_dataset_limpio_target.csv')"
   ]
  },
  {
   "cell_type": "code",
   "execution_count": null,
   "metadata": {},
   "outputs": [],
   "source": [
    "\n",
    "def determine_churn(row):\n",
    "    if row[\"return_status\"] == \"Returned\":\n",
    "        return \"Churned\"  # Likely to churn\n",
    "    elif row[\"order_status\"] in [\"Cancelled\", \"Pending\"]:\n",
    "        return \"Churned\"  # Potential churn risk\n",
    "    elif row[\"customer_type\"] == \"New\":\n",
    "        return \"Churned\"  # New customers who haven't purchased again\n",
    "    elif row[\"feedback\"] in [\"Poor\", \"Average\"]:\n",
    "        return \"Churned\"  # Low satisfaction\n",
    "    else:\n",
    "        return \"Retained\"  # Retained customer\n",
    "\n",
    "\n",
    "df[\"Churn\"] = df.apply(determine_churn, axis=1)\n",
    "\n"
   ]
  },
  {
   "cell_type": "code",
   "execution_count": 7,
   "metadata": {},
   "outputs": [],
   "source": [
    "df.to_csv(\"super_shop_dataset_limpio_target.csv\",index=False) "
   ]
  }
 ],
 "metadata": {
  "kernelspec": {
   "display_name": "ml-CWkbb4YO-py3.11",
   "language": "python",
   "name": "python3"
  },
  "language_info": {
   "codemirror_mode": {
    "name": "ipython",
    "version": 3
   },
   "file_extension": ".py",
   "mimetype": "text/x-python",
   "name": "python",
   "nbconvert_exporter": "python",
   "pygments_lexer": "ipython3",
   "version": "3.11.9"
  }
 },
 "nbformat": 4,
 "nbformat_minor": 2
}
